{
  "nbformat": 4,
  "nbformat_minor": 0,
  "metadata": {
    "colab": {
      "name": "Assignment No 1.ipynb",
      "provenance": [],
      "collapsed_sections": [],
      "authorship_tag": "ABX9TyNhDxq6E5aTPaIWye0frEF8",
      "include_colab_link": true
    },
    "kernelspec": {
      "name": "python3",
      "display_name": "Python 3"
    }
  },
  "cells": [
    {
      "cell_type": "markdown",
      "metadata": {
        "id": "view-in-github",
        "colab_type": "text"
      },
      "source": [
        "<a href=\"https://colab.research.google.com/github/Tejalpatel2099/Assignment-No-1-DSA/blob/main/Assignment_No_1.ipynb\" target=\"_parent\"><img src=\"https://colab.research.google.com/assets/colab-badge.svg\" alt=\"Open In Colab\"/></a>"
      ]
    },
    {
      "cell_type": "code",
      "metadata": {
        "colab": {
          "base_uri": "https://localhost:8080/"
        },
        "id": "Rc6VlVnL2vNR",
        "outputId": "cc7483ad-97e1-4899-cd72-78b1d9e85017"
      },
      "source": [
        "x = 3\r\n",
        "y = 4\r\n",
        "print (\"The value of 3^4 is : \",end=\"\")\r\n",
        "print (pow(3,4))\r\n",
        "#returns"
      ],
      "execution_count": 15,
      "outputs": [
        {
          "output_type": "stream",
          "text": [
            "The value of 3^4 is : 81\n"
          ],
          "name": "stdout"
        }
      ]
    }
  ]
}